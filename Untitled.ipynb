{
 "cells": [
  {
   "cell_type": "code",
   "execution_count": 19,
   "id": "b9444264",
   "metadata": {},
   "outputs": [
    {
     "name": "stdout",
     "output_type": "stream",
     "text": [
      "5\n"
     ]
    }
   ],
   "source": [
    "a=5\n",
    "print(a)"
   ]
  },
  {
   "cell_type": "code",
   "execution_count": 20,
   "id": "4b033c30",
   "metadata": {},
   "outputs": [
    {
     "name": "stdout",
     "output_type": "stream",
     "text": [
      "<class 'int'>\n"
     ]
    }
   ],
   "source": [
    "print(type(a))"
   ]
  },
  {
   "cell_type": "code",
   "execution_count": 21,
   "id": "1b03244c",
   "metadata": {},
   "outputs": [
    {
     "name": "stdout",
     "output_type": "stream",
     "text": [
      "6\n",
      "4\n",
      "5\n",
      "2.5\n"
     ]
    }
   ],
   "source": [
    "print(a+1)\n",
    "print(a-1)\n",
    "print(a*1)\n",
    "print(a/2)"
   ]
  },
  {
   "cell_type": "code",
   "execution_count": 22,
   "id": "efd86d23",
   "metadata": {},
   "outputs": [
    {
     "name": "stdout",
     "output_type": "stream",
     "text": [
      "25\n"
     ]
    }
   ],
   "source": [
    "print(a**2)"
   ]
  },
  {
   "cell_type": "code",
   "execution_count": 23,
   "id": "55101e72",
   "metadata": {},
   "outputs": [
    {
     "name": "stdout",
     "output_type": "stream",
     "text": [
      "2\n"
     ]
    }
   ],
   "source": [
    "print(a//2)"
   ]
  },
  {
   "cell_type": "code",
   "execution_count": 24,
   "id": "28f9153f",
   "metadata": {},
   "outputs": [],
   "source": [
    "t = True\n",
    "f = False"
   ]
  },
  {
   "cell_type": "code",
   "execution_count": 25,
   "id": "6a816e2a",
   "metadata": {},
   "outputs": [
    {
     "data": {
      "text/plain": [
       "bool"
      ]
     },
     "execution_count": 25,
     "metadata": {},
     "output_type": "execute_result"
    }
   ],
   "source": [
    "type(t)"
   ]
  },
  {
   "cell_type": "code",
   "execution_count": 26,
   "id": "2416064d",
   "metadata": {},
   "outputs": [
    {
     "name": "stdout",
     "output_type": "stream",
     "text": [
      "<class 'bool'>\n"
     ]
    }
   ],
   "source": [
    "print(type(f))"
   ]
  },
  {
   "cell_type": "code",
   "execution_count": 27,
   "id": "98711b9c",
   "metadata": {},
   "outputs": [
    {
     "name": "stdout",
     "output_type": "stream",
     "text": [
      "False\n"
     ]
    }
   ],
   "source": [
    "print(t and f)"
   ]
  },
  {
   "cell_type": "code",
   "execution_count": 28,
   "id": "896b7251",
   "metadata": {},
   "outputs": [
    {
     "name": "stdout",
     "output_type": "stream",
     "text": [
      "True\n"
     ]
    }
   ],
   "source": [
    "print(t or f)"
   ]
  },
  {
   "cell_type": "code",
   "execution_count": 29,
   "id": "4c9cd022",
   "metadata": {},
   "outputs": [
    {
     "name": "stdout",
     "output_type": "stream",
     "text": [
      "False\n"
     ]
    }
   ],
   "source": [
    "print(not t)"
   ]
  },
  {
   "cell_type": "code",
   "execution_count": 30,
   "id": "fa45ba8e",
   "metadata": {},
   "outputs": [
    {
     "name": "stdout",
     "output_type": "stream",
     "text": [
      "True\n"
     ]
    }
   ],
   "source": [
    "print(t !=f)"
   ]
  },
  {
   "cell_type": "code",
   "execution_count": 31,
   "id": "dfb38edb",
   "metadata": {},
   "outputs": [
    {
     "name": "stdout",
     "output_type": "stream",
     "text": [
      "Hello World\n"
     ]
    }
   ],
   "source": [
    "print('Hello World')"
   ]
  },
  {
   "cell_type": "code",
   "execution_count": 37,
   "id": "98b459cf",
   "metadata": {},
   "outputs": [
    {
     "name": "stdout",
     "output_type": "stream",
     "text": [
      "\n",
      "      Hello\n",
      "      world\n",
      "      My name is \n",
      "      Kajol\n"
     ]
    }
   ],
   "source": [
    "print(\"\"\"\n",
    "      Hello\n",
    "      world\n",
    "      My name is \n",
    "      Kajol\"\"\")"
   ]
  },
  {
   "cell_type": "code",
   "execution_count": 38,
   "id": "1c1ed16b",
   "metadata": {},
   "outputs": [
    {
     "name": "stdout",
     "output_type": "stream",
     "text": [
      "The value of a is 5\n"
     ]
    }
   ],
   "source": [
    "print(f\"The value of a is {a}\")"
   ]
  },
  {
   "cell_type": "code",
   "execution_count": 39,
   "id": "0a239dcc",
   "metadata": {},
   "outputs": [
    {
     "name": "stdout",
     "output_type": "stream",
     "text": [
      "a is 5 5\n"
     ]
    }
   ],
   "source": [
    "print('a is %d %d' %(a,a))"
   ]
  },
  {
   "cell_type": "code",
   "execution_count": 45,
   "id": "3b7e4872",
   "metadata": {},
   "outputs": [
    {
     "name": "stdout",
     "output_type": "stream",
     "text": [
      "The variable a is 5\n",
      "The variable b is also 6\n"
     ]
    }
   ],
   "source": [
    "a = 5\n",
    "b = 6\n",
    "\n",
    "if a==5:\n",
    "    print('The variable a is 5')\n",
    "    if b==6:\n",
    "        print('The variable b is also 6')\n",
    "elif a==6:\n",
    "    print('The variable a is 6')\n",
    "else:\n",
    "    print('anything')"
   ]
  },
  {
   "cell_type": "markdown",
   "id": "83e1c4ec",
   "metadata": {},
   "source": [
    "# Lopping"
   ]
  },
  {
   "cell_type": "code",
   "execution_count": 46,
   "id": "9af13c10",
   "metadata": {},
   "outputs": [
    {
     "name": "stdout",
     "output_type": "stream",
     "text": [
      "1\n",
      "2\n",
      "3\n",
      "4\n",
      "5\n",
      "6\n",
      "7\n",
      "8\n",
      "9\n"
     ]
    }
   ],
   "source": [
    "for x in range(1,10):\n",
    "    print(x)"
   ]
  },
  {
   "cell_type": "code",
   "execution_count": 53,
   "id": "0c6ffbee",
   "metadata": {},
   "outputs": [
    {
     "name": "stdout",
     "output_type": "stream",
     "text": [
      "10\n",
      "9\n",
      "8\n",
      "7\n",
      "6\n",
      "5\n",
      "4\n",
      "3\n",
      "2\n"
     ]
    }
   ],
   "source": [
    "for i in range(10,1,-1):\n",
    "    print(i)"
   ]
  },
  {
   "cell_type": "code",
   "execution_count": 55,
   "id": "e8f004e7",
   "metadata": {},
   "outputs": [
    {
     "name": "stdout",
     "output_type": "stream",
     "text": [
      "11\n",
      "10\n",
      "9\n",
      "8\n",
      "7\n",
      "6\n",
      "5\n",
      "4\n",
      "3\n"
     ]
    }
   ],
   "source": [
    "for i in range(11,2,-1):\n",
    "    print(i)"
   ]
  },
  {
   "cell_type": "code",
   "execution_count": 56,
   "id": "aa41b88b",
   "metadata": {},
   "outputs": [
    {
     "name": "stdout",
     "output_type": "stream",
     "text": [
      "10\n",
      "8\n",
      "6\n",
      "4\n",
      "2\n"
     ]
    }
   ],
   "source": [
    "for i in range(10,1,-2):\n",
    "    print(i)"
   ]
  },
  {
   "cell_type": "code",
   "execution_count": 60,
   "id": "02a73b6a",
   "metadata": {},
   "outputs": [
    {
     "name": "stdout",
     "output_type": "stream",
     "text": [
      "0+1=1\n",
      "final sum:1\n",
      "1+2=3\n",
      "final sum:3\n",
      "3+3=6\n",
      "final sum:6\n",
      "6+4=10\n",
      "final sum:10\n",
      "10+5=15\n",
      "final sum:15\n",
      "15+6=21\n",
      "final sum:21\n",
      "21+7=28\n",
      "final sum:28\n",
      "28+8=36\n",
      "final sum:36\n",
      "36+9=45\n",
      "final sum:45\n"
     ]
    }
   ],
   "source": [
    "a=0\n",
    "for x in range(1,10):\n",
    "    print(f\"{a}+{x}=\",end=\"\")\n",
    "    a+=x\n",
    "    print(a)\n",
    "    \n",
    "    print(f\"final sum:{a}\")"
   ]
  },
  {
   "cell_type": "code",
   "execution_count": 7,
   "id": "ac8d234f",
   "metadata": {},
   "outputs": [
    {
     "name": "stdout",
     "output_type": "stream",
     "text": [
      "[1, 2, 3, 4, 5]\n"
     ]
    }
   ],
   "source": [
    "l = [1,2,3,4,5]\n",
    "print(l)"
   ]
  },
  {
   "cell_type": "code",
   "execution_count": 8,
   "id": "e639beed",
   "metadata": {},
   "outputs": [
    {
     "name": "stdout",
     "output_type": "stream",
     "text": [
      " [0] = 1\n",
      " [1] = 2\n",
      " [2] = 3\n",
      " [3] = 4\n",
      " [4] = 5\n"
     ]
    }
   ],
   "source": [
    "for i,v in enumerate(l):\n",
    "    print(f\" [{i}] = {v}\")"
   ]
  },
  {
   "cell_type": "markdown",
   "id": "f4323b93",
   "metadata": {},
   "source": [
    "# Numpy"
   ]
  },
  {
   "cell_type": "code",
   "execution_count": 13,
   "id": "e0dee6ff",
   "metadata": {},
   "outputs": [
    {
     "name": "stdout",
     "output_type": "stream",
     "text": [
      "<class 'numpy.ndarray'>\n"
     ]
    }
   ],
   "source": [
    "import numpy as np\n",
    "a = np.array([[1, 2, 3] , [2,3,4]])\n",
    "print(type(a))"
   ]
  },
  {
   "cell_type": "code",
   "execution_count": 14,
   "id": "6ca1acf9",
   "metadata": {},
   "outputs": [
    {
     "name": "stdout",
     "output_type": "stream",
     "text": [
      "(2, 3)\n"
     ]
    }
   ],
   "source": [
    "print(a.shape)"
   ]
  },
  {
   "cell_type": "code",
   "execution_count": 15,
   "id": "79673d6e",
   "metadata": {},
   "outputs": [
    {
     "name": "stdout",
     "output_type": "stream",
     "text": [
      "[ 2  6 10] (3,)\n",
      "[[ 2]\n",
      " [ 6]\n",
      " [10]] (3, 1)\n"
     ]
    }
   ],
   "source": [
    "a = np.array([[1,2,3,4], [5,6,7,8], [9,10,11,12]])\n",
    "\n",
    "# We can make the same distinction when accessing columns of an array:\n",
    "col_r1 = a[:, 1]\n",
    "col_r2 = a[:, 1:2]\n",
    "print(col_r1, col_r1.shape)  # Prints \"[ 2  6 10] (3,)\"\n",
    "print(col_r2, col_r2.shape) "
   ]
  },
  {
   "cell_type": "markdown",
   "id": "63d16482",
   "metadata": {},
   "source": [
    "# Neural networks"
   ]
  },
  {
   "cell_type": "code",
   "execution_count": 1,
   "id": "3661c3a1",
   "metadata": {},
   "outputs": [],
   "source": [
    "import matplotlib.pyplot as plt\n",
    "import random \n",
    "import math"
   ]
  },
  {
   "cell_type": "code",
   "execution_count": 2,
   "id": "d5422731",
   "metadata": {},
   "outputs": [],
   "source": [
    "X1 = [0,0,1,1] #input\n",
    "X2 = [0,1,0,1] #Input\n",
    "Y =  [0,0,0,1] # And gate"
   ]
  },
  {
   "cell_type": "code",
   "execution_count": 42,
   "id": "5df12365",
   "metadata": {},
   "outputs": [
    {
     "data": {
      "image/png": "[encoded data removed]",
      "text/plain": [
       "<Figure size 432x288 with 1 Axes>"
      ]
     },
     "metadata": {
      "needs_background": "light"
     },
     "output_type": "display_data"
    }
   ],
   "source": [
    "plt.figure() # define to plot a new figure\n",
    "\n",
    "for i in range(4):\n",
    "    if Y[i]==0:\n",
    "        plt.plot(X1[i], X2[i], \"ro\") # we can do any kind of ploting\n",
    "    else: \n",
    "        plt.plot(X1[i], X2[i], \"go\")\n",
    "        plt.show() # display the figure"
   ]
  },
  {
   "cell_type": "code",
   "execution_count": 31,
   "id": "78961bde",
   "metadata": {},
   "outputs": [
    {
     "name": "stdout",
     "output_type": "stream",
     "text": [
      "[0.4331370812573432, 0.9002709880237374] 0.7722790546644563\n"
     ]
    }
   ],
   "source": [
    "W = [random.random(), random.random()] # weighted value for W0 and W1\n",
    "b= random.random() # Bias\n",
    "print(W, b)\n",
    "\n",
    "lr = 0.1 # learning rate it can be used genarelly small value[avarge 1]\n",
    "theta = 0.5 # Thresold"
   ]
  },
  {
   "cell_type": "code",
   "execution_count": 44,
   "id": "cb2d264e",
   "metadata": {},
   "outputs": [
    {
     "name": "stdout",
     "output_type": "stream",
     "text": [
      "Epoch: 0\n",
      "[0, 0]= 0\n",
      "Loss: 0\n",
      "---------\n",
      "[0, 1]= 0\n",
      "Loss: 0\n",
      "---------\n",
      "[1, 0]= 0\n",
      "Loss: 0\n",
      "---------\n",
      "[1, 1]= 1\n",
      "Loss: 0\n",
      "---------\n"
     ]
    }
   ],
   "source": [
    "epoch = 0\n",
    "count = 0\n",
    "\n",
    "while count<4:\n",
    "    total_error = 0\n",
    "    print(f\"Epoch: {epoch}\")\n",
    "    for i in range(len(Y)):\n",
    "        weighted_sum = W[0]*X1[i]+W[1]*X2[i] +b \n",
    "        pred = 0\n",
    "        if weighted_sum > theta:\n",
    "            pred = 1\n",
    "            \n",
    "        error = Y[i] - pred # Y[i] is target\n",
    "        if error !=0:\n",
    "            count =0\n",
    "            total_error += math.sqrt(error**2)\n",
    "            \n",
    "            W[0] += lr* error * X1[i]\n",
    "            W[1] += lr* error * X2[i]\n",
    "            b += lr* error\n",
    "        else:\n",
    "            count +=1\n",
    "            print(f\"[{X1[i]}, {X2[i]}]= {pred}\")\n",
    "            print (f\"Loss: {total_error}\")\n",
    "            print(\"---------\")\n",
    "            epoch +=1"
   ]
  },
  {
   "cell_type": "code",
   "execution_count": 39,
   "id": "aa07eac3",
   "metadata": {},
   "outputs": [
    {
     "data": {
      "image/png": "[encoded data removed]",
      "text/plain": [
       "<Figure size 432x288 with 1 Axes>"
      ]
     },
     "metadata": {
      "needs_background": "light"
     },
     "output_type": "display_data"
    }
   ],
   "source": [
    "plt.figure()\n",
    "for i in range (len(Y)):\n",
    "    if Y[i]==0:\n",
    "        plt.plot(X1[i],X2[i], \"ro\")\n",
    "    else:\n",
    "        plt.plot(X1[i],X2[i], \"bo\")\n",
    "    xintr = (theta-b)/W[0] # calculate X intersect\n",
    "    yintr = (theta-b)/W[1]n # we calculate y intersect\n",
    "    \n",
    "    slope = -yintr/xintr #we calculate slop\n",
    "\n",
    "    xx=plt.xlim()\n",
    "yeq = []\n",
    "for x in xx:\n",
    "    yeq.append(slope*x+yintr)\n",
    "plt.plot(xx,yeq)\n",
    "plt.show()"
   ]
  }
 ],
 "metadata": {
  "kernelspec": {
   "display_name": "tf2.4 py3.8",
   "language": "python",
   "name": "tf"
  },
  "language_info": {
   "codemirror_mode": {
    "name": "ipython",
    "version": 3
   },
   "file_extension": ".py",
   "mimetype": "text/x-python",
   "name": "python",
   "nbconvert_exporter": "python",
   "pygments_lexer": "ipython3",
   "version": "3.8.12"
  }
 },
 "nbformat": 4,
 "nbformat_minor": 5
}
